{
 "cells": [
  {
   "cell_type": "markdown",
   "metadata": {},
   "source": [
    "KNMI. (1911–2021b, januari 1–december 31). Dagwaarden van weerstations [De Bilt]. Ministerie van Infrastructuur en Waterstaat. https://daggegevens.knmi.nl/\n",
    "\n",
    "KNMI. (1911–2021a). Zware stormen in Nederland sinds 1910 [Dataset]. Ministerie van Infrastructuur en Waterstaat. https://www.knmi.nl/nederland-nu/klimatologie/lijsten/zwarestormen"
   ]
  },
  {
   "cell_type": "code",
   "execution_count": 1131,
   "metadata": {},
   "outputs": [],
   "source": [
    "from numpy import NaN\n",
    "import requests\n",
    "import pandas as pd\n",
    "import numpy as np\n",
    "from bs4 import BeautifulSoup"
   ]
  },
  {
   "cell_type": "markdown",
   "metadata": {},
   "source": [
    "Lees de daggegevens van knmi in"
   ]
  },
  {
   "cell_type": "code",
   "execution_count": 1132,
   "metadata": {},
   "outputs": [
    {
     "name": "stdout",
     "output_type": "stream",
     "text": [
      "       YYYYMMDD  DDVEC  FHVEC     FG    FHX   FHXH    FHN   FHNH    FXX  \\\n",
      "# STN                                                                     \n",
      "260    19110101    254     46     57     72      9     31     24          \n",
      "260    19110102    281     21     31     46      1     10     21          \n",
      "260    19110103     51     51     57     72     17     41      4          \n",
      "260    19110104     50     51     51     82     15     36     21          \n",
      "260    19110105     51     31     31     51     12     10     23          \n",
      "...         ...    ...    ...    ...    ...    ...    ...    ...    ...   \n",
      "260    20211227    141     33     33     40     11     30      1     80   \n",
      "260    20211228    216     29     45     70     13     30      1    170   \n",
      "260    20211229    231     30     37     50     18     20      9    100   \n",
      "260    20211230    236     64     64     80     12     50      2    150   \n",
      "260    20211231    227     55     55     70      7     40     17    140   \n",
      "\n",
      "        FXXH  ...   VVNH    VVX   VVXH     NG    UG     UX    UXH     UN  \\\n",
      "# STN         ...                                                          \n",
      "260           ...                                87                        \n",
      "260           ...                                95                        \n",
      "260           ...                                89                        \n",
      "260           ...                                86                        \n",
      "260           ...                                90                        \n",
      "...      ...  ...    ...    ...    ...    ...   ...    ...    ...    ...   \n",
      "260       22  ...      8     64     14      8    97     99      3     94   \n",
      "260       13  ...     20     65     10      8    95     98      1     78   \n",
      "260       19  ...     17     65      4      8    95     98      5     86   \n",
      "260       11  ...      5     70     14      8    91     98      5     85   \n",
      "260       13  ...     24     75      5      8    85     94     24     78   \n",
      "\n",
      "         UNH   EV24  \n",
      "# STN                \n",
      "260                  \n",
      "260                  \n",
      "260                  \n",
      "260                  \n",
      "260                  \n",
      "...      ...    ...  \n",
      "260       14      2  \n",
      "260       14      2  \n",
      "260       21      1  \n",
      "260       21      1  \n",
      "260        6      2  \n",
      "\n",
      "[40543 rows x 40 columns]\n"
     ]
    },
    {
     "name": "stderr",
     "output_type": "stream",
     "text": [
      "C:\\Users\\danie\\AppData\\Local\\Programs\\Python\\Python39\\lib\\site-packages\\IPython\\core\\interactiveshell.py:3444: DtypeWarning: Columns (2,3,4,5,6,7,8,9,10,13,15,16,17,18,19,20,21,22,23,24,27,29,30,31,32,33,34,36,37,38,39,40) have mixed types.Specify dtype option on import or set low_memory=False.\n",
      "  exec(code_obj, self.user_global_ns, self.user_ns)\n"
     ]
    }
   ],
   "source": [
    "daggegevensDf = pd.read_csv(\"daggegevens.csv\", skiprows=46, index_col=0) # Sla de eerste 46 regels over\n",
    "print(daggegevensDf)"
   ]
  },
  {
   "cell_type": "markdown",
   "metadata": {},
   "source": [
    "Scrape de zware stormen"
   ]
  },
  {
   "cell_type": "code",
   "execution_count": 1133,
   "metadata": {},
   "outputs": [],
   "source": [
    "\n",
    "url = \"https://www.knmi.nl/nederland-nu/klimatologie/lijsten/zwarestormen\" \n",
    "response = requests.get(url) \n",
    "html = BeautifulSoup(response.text, \"html.parser\") \n",
    "table = html.find_all('table')\n",
    "\n",
    "stormenDf = pd.read_html(str(table)) # Lees de tabel in\n",
    "stormenDf = pd.DataFrame(stormenDf[0])\n",
    "stormenList =  []\n",
    "\n",
    "for index, row in stormenDf.iterrows():\n",
    "    stormenList.append([row[1], row[2], row[3], row[4], row[5], row[6], row[7], row[8], row[9]]) # Voeg de tabel toe aan de stormenList\n",
    "\n",
    "stormenDf = pd.DataFrame(stormenList) # Zet de stormenList om naar een DataFrame\n",
    "stormenDf.to_csv(\"stormen.csv\", index=False)"
   ]
  },
  {
   "cell_type": "code",
   "execution_count": 1134,
   "metadata": {},
   "outputs": [
    {
     "name": "stdout",
     "output_type": "stream",
     "text": [
      "       0           1   2   3    4     5      6                 7      8\n",
      "0   1911  3009/  110  11  30  108  38.0  137.0  Hoek van Holland    NaN\n",
      "1   1912        2708  10  27   97  41.0  148.0  Hoek van Holland    NaN\n",
      "2   1913     26/2712  10  28  101   NaN    NaN        Vlissingen    NaN\n",
      "3   1914        1208  10  26   94   NaN    NaN        Den Helder    NaN\n",
      "4   1914        1111  10  26   94   NaN    NaN        Vlissingen    NaN\n",
      "..   ...         ...  ..  ..  ...   ...    ...               ...    ...\n",
      "61  2016        2011  10  26   94  37.0  133.0          IJmuiden    NaN\n",
      "62  2017        1309  10  26   94  35.0  126.0          Vlieland    NaN\n",
      "63  2018        0301  10  26   94  34.0  122.0          Vlieland    NaN\n",
      "64  2018        1801  11  30  108  40.0  144.0  Hoek van Holland    NaN\n",
      "65  2020        0902  10  25   90  36.0  130.0          Vlieland  Ciara\n",
      "\n",
      "[66 rows x 9 columns]\n"
     ]
    }
   ],
   "source": [
    "# Maanden omzetten naar cijfers\n",
    "for col in stormenDf:\n",
    "    stormenDf[1] = stormenDf[1].str.replace(' jan', '01')\n",
    "    stormenDf[1] = stormenDf[1].str.replace(' feb', '02')\n",
    "    stormenDf[1] = stormenDf[1].str.replace(' mrt', '03')\n",
    "    stormenDf[1] = stormenDf[1].str.replace(' apr', '04')\n",
    "    stormenDf[1] = stormenDf[1].str.replace(' mei', '05')\n",
    "    stormenDf[1] = stormenDf[1].str.replace(' jun', '06')\n",
    "    stormenDf[1] = stormenDf[1].str.replace(' jul', '07')\n",
    "    stormenDf[1] = stormenDf[1].str.replace(' aug', '08')\n",
    "    stormenDf[1] = stormenDf[1].str.replace(' sep', '09')\n",
    "    stormenDf[1] = stormenDf[1].str.replace(' okt', '10')\n",
    "    stormenDf[1] = stormenDf[1].str.replace(' nov', '11')\n",
    "    stormenDf[1] = stormenDf[1].str.replace(' dec', '12')\n",
    "\n",
    "# Nul toevoegen aan ééncijferige data (bijvoorbeeld 1 oktober, 110 --> 0101)\n",
    "for index, row in stormenDf.iterrows():\n",
    "    if len(row[1]) < 4:\n",
    "        stormenDf.iat[index, 1] = '0' + stormenDf.iloc[index][1]\n",
    "\n",
    "print(stormenDf)\n",
    "stormenDf.to_csv('stormen2.csv', index=False)"
   ]
  },
  {
   "cell_type": "markdown",
   "metadata": {},
   "source": [
    "Sommige stormen duren twee dagen. Ik bewerk het csv bestand handmatig: stond er bijvoorbeeld eerst als datum \"3009/   110\", dan worden dat nu twee rijen met datum 30-09 en 01-10."
   ]
  },
  {
   "cell_type": "code",
   "execution_count": 1135,
   "metadata": {},
   "outputs": [],
   "source": [
    "stormenDf3 = pd.read_csv ('stormen3.csv', dtype=str)\n",
    "\n",
    "stormenDf3 = stormenDf3.rename(columns={'0': 'YYYYMMDD',\n",
    "                                        '1': 'Datum',\n",
    "                                        '2': 'Hoogste windsnelheid Bft',\n",
    "                                        '3': 'Hoogste uur m/s',\n",
    "                                        '4': 'Hoogste uur km/h',\n",
    "                                        '5': 'Zwaarste windstoot m/s',\n",
    "                                        '6': 'Zwaarste windstoot km/h',\n",
    "                                        '7': 'Plaats',\n",
    "                                        '8': 'Naam',})"
   ]
  },
  {
   "cell_type": "markdown",
   "metadata": {},
   "source": [
    "De kolom jaartal en datum worden samengevoegd zodat hij overeenkomt met dagwaarden dataframe: YYYYMMDD"
   ]
  },
  {
   "cell_type": "code",
   "execution_count": 1136,
   "metadata": {},
   "outputs": [
    {
     "name": "stdout",
     "output_type": "stream",
     "text": [
      "    YYYYMMDD Hoogste windsnelheid Bft Hoogste uur m/s Hoogste uur km/h  \\\n",
      "0   19110930                       11              30              108   \n",
      "1   19111001                       11              30              108   \n",
      "2   19120827                       10              27               97   \n",
      "3   19131226                       10              28              101   \n",
      "4   19131227                       10              28              101   \n",
      "..       ...                      ...             ...              ...   \n",
      "73  20161120                       10              26               94   \n",
      "74  20170913                       10              26               94   \n",
      "75  20180103                       10              26               94   \n",
      "76  20180118                       11              30              108   \n",
      "77  20200209                       10              25               90   \n",
      "\n",
      "   Zwaarste windstoot m/s Zwaarste windstoot km/h            Plaats   Naam  \n",
      "0                    38.0                   137.0  Hoek van Holland    NaN  \n",
      "1                    38.0                   137.0  Hoek van Holland    NaN  \n",
      "2                    41.0                   148.0  Hoek van Holland    NaN  \n",
      "3                     NaN                     NaN        Vlissingen    NaN  \n",
      "4                     NaN                     NaN        Vlissingen    NaN  \n",
      "..                    ...                     ...               ...    ...  \n",
      "73                   37.0                   133.0          IJmuiden    NaN  \n",
      "74                   35.0                   126.0          Vlieland    NaN  \n",
      "75                   34.0                   122.0          Vlieland    NaN  \n",
      "76                   40.0                   144.0  Hoek van Holland    NaN  \n",
      "77                   36.0                   130.0          Vlieland  Ciara  \n",
      "\n",
      "[78 rows x 8 columns]\n"
     ]
    }
   ],
   "source": [
    "stormenDf3['Date'] = stormenDf3['Datum'].str[:2]\n",
    "stormenDf3['Month'] = stormenDf3['Datum'].str[2:]\n",
    "stormenDf3['YYYYMMDD'] = stormenDf3['YYYYMMDD'] + stormenDf3['Month'] + stormenDf3['Date']\n",
    "\n",
    "del stormenDf3['Datum']\n",
    "del stormenDf3['Month']\n",
    "del stormenDf3['Date']\n",
    "\n",
    "print(stormenDf3)"
   ]
  },
  {
   "cell_type": "markdown",
   "metadata": {},
   "source": [
    "Ik maak een nieuwe kolom die bijhoudt of het heeft gestormd die dag."
   ]
  },
  {
   "cell_type": "code",
   "execution_count": 1137,
   "metadata": {},
   "outputs": [],
   "source": [
    "stormTrueOrFalse = []\n",
    "for i in range(len(stormenDf3)):\n",
    "    stormTrueOrFalse.append(1) # Voeg telkens een 1 toe bij de stormen\n",
    "\n",
    "stormenDf3.insert(1, 'Storm', stormTrueOrFalse)\n",
    "stormenDf3['Storm'] = stormenDf3['Storm'].astype('bool') # Sla de value op als boolean"
   ]
  },
  {
   "cell_type": "markdown",
   "metadata": {},
   "source": [
    "Datasets samenvoegen"
   ]
  },
  {
   "cell_type": "code",
   "execution_count": 1138,
   "metadata": {},
   "outputs": [
    {
     "name": "stdout",
     "output_type": "stream",
     "text": [
      "       YYYYMMDD  Storm Hoogste windsnelheid Bft Hoogste uur m/s  \\\n",
      "0      19110101  False                      NaN             NaN   \n",
      "1      19110102  False                      NaN             NaN   \n",
      "2      19110103  False                      NaN             NaN   \n",
      "3      19110104  False                      NaN             NaN   \n",
      "4      19110105  False                      NaN             NaN   \n",
      "...         ...    ...                      ...             ...   \n",
      "40538  20211227  False                      NaN             NaN   \n",
      "40539  20211228  False                      NaN             NaN   \n",
      "40540  20211229  False                      NaN             NaN   \n",
      "40541  20211230  False                      NaN             NaN   \n",
      "40542  20211231  False                      NaN             NaN   \n",
      "\n",
      "      Hoogste uur km/h Zwaarste windstoot m/s Zwaarste windstoot km/h Plaats  \\\n",
      "0                  NaN                    NaN                     NaN    NaN   \n",
      "1                  NaN                    NaN                     NaN    NaN   \n",
      "2                  NaN                    NaN                     NaN    NaN   \n",
      "3                  NaN                    NaN                     NaN    NaN   \n",
      "4                  NaN                    NaN                     NaN    NaN   \n",
      "...                ...                    ...                     ...    ...   \n",
      "40538              NaN                    NaN                     NaN    NaN   \n",
      "40539              NaN                    NaN                     NaN    NaN   \n",
      "40540              NaN                    NaN                     NaN    NaN   \n",
      "40541              NaN                    NaN                     NaN    NaN   \n",
      "40542              NaN                    NaN                     NaN    NaN   \n",
      "\n",
      "      Naam  DDVEC  ...   VVNH    VVX   VVXH     NG    UG     UX    UXH     UN  \\\n",
      "0      NaN    254  ...                                87                        \n",
      "1      NaN    281  ...                                95                        \n",
      "2      NaN     51  ...                                89                        \n",
      "3      NaN     50  ...                                86                        \n",
      "4      NaN     51  ...                                90                        \n",
      "...    ...    ...  ...    ...    ...    ...    ...   ...    ...    ...    ...   \n",
      "40538  NaN    141  ...      8     64     14      8    97     99      3     94   \n",
      "40539  NaN    216  ...     20     65     10      8    95     98      1     78   \n",
      "40540  NaN    231  ...     17     65      4      8    95     98      5     86   \n",
      "40541  NaN    236  ...      5     70     14      8    91     98      5     85   \n",
      "40542  NaN    227  ...     24     75      5      8    85     94     24     78   \n",
      "\n",
      "         UNH   EV24  \n",
      "0                    \n",
      "1                    \n",
      "2                    \n",
      "3                    \n",
      "4                    \n",
      "...      ...    ...  \n",
      "40538     14      2  \n",
      "40539     14      2  \n",
      "40540     21      1  \n",
      "40541     21      1  \n",
      "40542      6      2  \n",
      "\n",
      "[40543 rows x 48 columns]\n"
     ]
    }
   ],
   "source": [
    "# del stormenDf3['Hoogste windsnelheid Bft']\n",
    "# del stormenDf3['Hoogste uur m/s']\n",
    "# del stormenDf3['Hoogste uur km/h']\n",
    "# del stormenDf3['Zwaarste windstoot m/s']\n",
    "# del stormenDf3['Zwaarste windstoot km/h']\n",
    "# del stormenDf3['Plaats']\n",
    "# del stormenDf3['Naam']\n",
    "\n",
    "daggegevensDf['YYYYMMDD'] = daggegevensDf['YYYYMMDD'].astype(str)\n",
    "\n",
    "df = stormenDf3.merge(daggegevensDf, how='right', left_on='YYYYMMDD', right_on='YYYYMMDD')\n",
    "df['Storm'] =df['Storm'].fillna(False) # Verander NaN in False\n",
    "print(df)\n",
    "df.to_csv('daggegevens_en_stormen.csv', index=False)"
   ]
  }
 ],
 "metadata": {
  "interpreter": {
   "hash": "9518128f597d7b00dc14729602cfd87fb7b2cf75925976bcb0d0e328a830a12b"
  },
  "kernelspec": {
   "display_name": "Python 3.9.6 64-bit",
   "language": "python",
   "name": "python3"
  },
  "language_info": {
   "codemirror_mode": {
    "name": "ipython",
    "version": 3
   },
   "file_extension": ".py",
   "mimetype": "text/x-python",
   "name": "python",
   "nbconvert_exporter": "python",
   "pygments_lexer": "ipython3",
   "version": "3.9.6"
  },
  "orig_nbformat": 4
 },
 "nbformat": 4,
 "nbformat_minor": 2
}
