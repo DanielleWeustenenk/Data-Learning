{
 "cells": [
  {
   "cell_type": "markdown",
   "metadata": {},
   "source": [
    "# Imports"
   ]
  },
  {
   "cell_type": "code",
   "execution_count": 1,
   "metadata": {},
   "outputs": [],
   "source": [
    "import pandas as pd\n",
    "from sklearn.model_selection import train_test_split\n",
    "from sklearn.metrics import confusion_matrix\n",
    "from sklearn.ensemble import RandomForestClassifier"
   ]
  },
  {
   "cell_type": "markdown",
   "metadata": {},
   "source": [
    "# Data importeren"
   ]
  },
  {
   "cell_type": "code",
   "execution_count": 2,
   "metadata": {},
   "outputs": [
    {
     "data": {
      "text/plain": [
       "<bound method NDFrame.head of     Id Gender  Leeftijd Karakter Apparaat Huis Plek  \\\n",
       "0    1      v        19        b        a    b    b   \n",
       "1    2      v        22        a        a    b    a   \n",
       "2    3      v        20        a        a    a    a   \n",
       "3    4      m        24        b        a    b    b   \n",
       "4    5      v        19        b        a    b    b   \n",
       "..  ..    ...       ...      ...      ...  ...  ...   \n",
       "63  65      m        25        a        a    b    b   \n",
       "64  66      m        61        b        a    b    b   \n",
       "65  67      v        29        a        a    b    a   \n",
       "66  68      v        55        b        a    b    b   \n",
       "67  69      m        18        b        a    b    b   \n",
       "\n",
       "   Rugzak [A: In kijken (-1); Laten liggen (0); Melding maken (1)]  \\\n",
       "0                                                   b                \n",
       "1                                                   a                \n",
       "2                                                   a                \n",
       "3                                                   b                \n",
       "4                                                   b                \n",
       "..                                                ...                \n",
       "63                                                  b                \n",
       "64                                                  b                \n",
       "65                                                  a                \n",
       "66                                                  b                \n",
       "67                                                  c                \n",
       "\n",
       "   Koffer [A: In kijken (-1); Laten liggen (0); Melding maken (1)]  \\\n",
       "0                                                   c                \n",
       "1                                                   a                \n",
       "2                                                   a                \n",
       "3                                                   c                \n",
       "4                                                   b                \n",
       "..                                                ...                \n",
       "63                                                  a                \n",
       "64                                                  c                \n",
       "65                                                  c                \n",
       "66                                                  c                \n",
       "67                                                  c                \n",
       "\n",
       "   Envelop [A: In kijken (-1); Laten liggen (0); Melding maken (1)]  ...  \\\n",
       "0                                                   a                ...   \n",
       "1                                                   a                ...   \n",
       "2                                                   a                ...   \n",
       "3                                                   b                ...   \n",
       "4                                                   b                ...   \n",
       "..                                                ...                ...   \n",
       "63                                                  a                ...   \n",
       "64                                                  c                ...   \n",
       "65                                                  a                ...   \n",
       "66                                                  c                ...   \n",
       "67                                                  c                ...   \n",
       "\n",
       "    Tweefactorauthenticatie  Password_manager  Webcamcover  Virus_scanner  \\\n",
       "0                         1                 0            0              1   \n",
       "1                         1                 0            1              1   \n",
       "2                         1                 0            0              1   \n",
       "3                         1                 1            1              1   \n",
       "4                         1                 0            1              1   \n",
       "..                      ...               ...          ...            ...   \n",
       "63                        1                 1            0              1   \n",
       "64                        0                 0            0              1   \n",
       "65                        1                 0            1              0   \n",
       "66                        1                 0            0              0   \n",
       "67                        1                 1            1              1   \n",
       "\n",
       "    Veiligheidsbewust [0: Nee; 1:Ja]  Unnamed: 20  Unnamed: 21  Unnamed: 22  \\\n",
       "0                                  0          NaN          NaN          NaN   \n",
       "1                                  0          NaN          NaN          NaN   \n",
       "2                                  0          NaN          NaN          NaN   \n",
       "3                                  1          NaN          NaN          NaN   \n",
       "4                                  1          NaN          NaN          NaN   \n",
       "..                               ...          ...          ...          ...   \n",
       "63                                 0          NaN          NaN          NaN   \n",
       "64                                 1          NaN          NaN          NaN   \n",
       "65                                 0          NaN          NaN          NaN   \n",
       "66                                 1          NaN          NaN          NaN   \n",
       "67                                 1          NaN          NaN          NaN   \n",
       "\n",
       "    Unnamed: 23  Unnamed: 24  \n",
       "0           NaN          NaN  \n",
       "1           NaN          NaN  \n",
       "2           NaN          NaN  \n",
       "3           NaN          NaN  \n",
       "4           NaN          NaN  \n",
       "..          ...          ...  \n",
       "63          NaN          NaN  \n",
       "64          NaN          NaN  \n",
       "65          NaN          NaN  \n",
       "66          NaN          NaN  \n",
       "67          NaN          NaN  \n",
       "\n",
       "[68 rows x 25 columns]>"
      ]
     },
     "execution_count": 2,
     "metadata": {},
     "output_type": "execute_result"
    }
   ],
   "source": [
    "df = pd.read_csv('seriousgaming.csv', sep=';')\n",
    "df.head"
   ]
  },
  {
   "cell_type": "markdown",
   "metadata": {},
   "source": [
    "# Data cleanen"
   ]
  },
  {
   "cell_type": "code",
   "execution_count": 3,
   "metadata": {},
   "outputs": [
    {
     "data": {
      "text/html": [
       "<div>\n",
       "<style scoped>\n",
       "    .dataframe tbody tr th:only-of-type {\n",
       "        vertical-align: middle;\n",
       "    }\n",
       "\n",
       "    .dataframe tbody tr th {\n",
       "        vertical-align: top;\n",
       "    }\n",
       "\n",
       "    .dataframe thead th {\n",
       "        text-align: right;\n",
       "    }\n",
       "</style>\n",
       "<table border=\"1\" class=\"dataframe\">\n",
       "  <thead>\n",
       "    <tr style=\"text-align: right;\">\n",
       "      <th></th>\n",
       "      <th>Karakter</th>\n",
       "      <th>Apparaat</th>\n",
       "      <th>Huis</th>\n",
       "      <th>Plek</th>\n",
       "      <th>Uitslag</th>\n",
       "      <th>Veiligheidsbewust</th>\n",
       "    </tr>\n",
       "  </thead>\n",
       "  <tbody>\n",
       "    <tr>\n",
       "      <th>0</th>\n",
       "      <td>b</td>\n",
       "      <td>a</td>\n",
       "      <td>b</td>\n",
       "      <td>b</td>\n",
       "      <td>0</td>\n",
       "      <td>0</td>\n",
       "    </tr>\n",
       "    <tr>\n",
       "      <th>1</th>\n",
       "      <td>a</td>\n",
       "      <td>a</td>\n",
       "      <td>b</td>\n",
       "      <td>a</td>\n",
       "      <td>-3</td>\n",
       "      <td>0</td>\n",
       "    </tr>\n",
       "    <tr>\n",
       "      <th>2</th>\n",
       "      <td>a</td>\n",
       "      <td>a</td>\n",
       "      <td>a</td>\n",
       "      <td>a</td>\n",
       "      <td>-3</td>\n",
       "      <td>0</td>\n",
       "    </tr>\n",
       "    <tr>\n",
       "      <th>3</th>\n",
       "      <td>b</td>\n",
       "      <td>a</td>\n",
       "      <td>b</td>\n",
       "      <td>b</td>\n",
       "      <td>1</td>\n",
       "      <td>1</td>\n",
       "    </tr>\n",
       "    <tr>\n",
       "      <th>4</th>\n",
       "      <td>b</td>\n",
       "      <td>a</td>\n",
       "      <td>b</td>\n",
       "      <td>b</td>\n",
       "      <td>0</td>\n",
       "      <td>1</td>\n",
       "    </tr>\n",
       "  </tbody>\n",
       "</table>\n",
       "</div>"
      ],
      "text/plain": [
       "  Karakter Apparaat Huis Plek  Uitslag  Veiligheidsbewust\n",
       "0        b        a    b    b        0                  0\n",
       "1        a        a    b    a       -3                  0\n",
       "2        a        a    a    a       -3                  0\n",
       "3        b        a    b    b        1                  1\n",
       "4        b        a    b    b        0                  1"
      ]
     },
     "execution_count": 3,
     "metadata": {},
     "output_type": "execute_result"
    }
   ],
   "source": [
    "df = df.rename(columns={'Veiligheidsbewust [0: Nee; 1:Ja]': 'Veiligheidsbewust'})\n",
    "df = df[['Karakter', 'Apparaat', 'Huis', 'Plek', 'Uitslag', 'Veiligheidsbewust']]\n",
    "df.head()"
   ]
  },
  {
   "cell_type": "markdown",
   "metadata": {},
   "source": [
    "Aantal veiligheidsbewuste mensen:"
   ]
  },
  {
   "cell_type": "code",
   "execution_count": 4,
   "metadata": {},
   "outputs": [
    {
     "data": {
      "text/plain": [
       "1    41\n",
       "0    27\n",
       "Name: Veiligheidsbewust, dtype: int64"
      ]
     },
     "execution_count": 4,
     "metadata": {},
     "output_type": "execute_result"
    }
   ],
   "source": [
    "df['Veiligheidsbewust'].value_counts()"
   ]
  },
  {
   "cell_type": "code",
   "execution_count": 5,
   "metadata": {},
   "outputs": [
    {
     "name": "stdout",
     "output_type": "stream",
     "text": [
      "<class 'pandas.core.frame.DataFrame'>\n",
      "RangeIndex: 68 entries, 0 to 67\n",
      "Data columns (total 6 columns):\n",
      " #   Column             Non-Null Count  Dtype \n",
      "---  ------             --------------  ----- \n",
      " 0   Karakter           68 non-null     object\n",
      " 1   Apparaat           68 non-null     object\n",
      " 2   Huis               68 non-null     object\n",
      " 3   Plek               68 non-null     object\n",
      " 4   Uitslag            68 non-null     int64 \n",
      " 5   Veiligheidsbewust  68 non-null     int64 \n",
      "dtypes: int64(2), object(4)\n",
      "memory usage: 3.3+ KB\n"
     ]
    }
   ],
   "source": [
    "df.info()"
   ]
  },
  {
   "cell_type": "markdown",
   "metadata": {},
   "source": [
    "### Dummificeren\n",
    "We willen dummy variabelen maken voor *Karakter*, *Apparaat*, *Huis*, *Plek*."
   ]
  },
  {
   "cell_type": "code",
   "execution_count": 6,
   "metadata": {},
   "outputs": [
    {
     "data": {
      "text/html": [
       "<div>\n",
       "<style scoped>\n",
       "    .dataframe tbody tr th:only-of-type {\n",
       "        vertical-align: middle;\n",
       "    }\n",
       "\n",
       "    .dataframe tbody tr th {\n",
       "        vertical-align: top;\n",
       "    }\n",
       "\n",
       "    .dataframe thead th {\n",
       "        text-align: right;\n",
       "    }\n",
       "</style>\n",
       "<table border=\"1\" class=\"dataframe\">\n",
       "  <thead>\n",
       "    <tr style=\"text-align: right;\">\n",
       "      <th></th>\n",
       "      <th>Veiligheidsbewust</th>\n",
       "      <th>Uitslag</th>\n",
       "      <th>Karakter_a</th>\n",
       "      <th>Karakter_b</th>\n",
       "      <th>Apparaat_a</th>\n",
       "      <th>Apparaat_b</th>\n",
       "      <th>Huis_a</th>\n",
       "      <th>Huis_b</th>\n",
       "      <th>Plek_a</th>\n",
       "      <th>Plek_b</th>\n",
       "    </tr>\n",
       "  </thead>\n",
       "  <tbody>\n",
       "    <tr>\n",
       "      <th>0</th>\n",
       "      <td>0</td>\n",
       "      <td>0</td>\n",
       "      <td>0</td>\n",
       "      <td>1</td>\n",
       "      <td>1</td>\n",
       "      <td>0</td>\n",
       "      <td>0</td>\n",
       "      <td>1</td>\n",
       "      <td>0</td>\n",
       "      <td>1</td>\n",
       "    </tr>\n",
       "    <tr>\n",
       "      <th>1</th>\n",
       "      <td>0</td>\n",
       "      <td>-3</td>\n",
       "      <td>1</td>\n",
       "      <td>0</td>\n",
       "      <td>1</td>\n",
       "      <td>0</td>\n",
       "      <td>0</td>\n",
       "      <td>1</td>\n",
       "      <td>1</td>\n",
       "      <td>0</td>\n",
       "    </tr>\n",
       "    <tr>\n",
       "      <th>2</th>\n",
       "      <td>0</td>\n",
       "      <td>-3</td>\n",
       "      <td>1</td>\n",
       "      <td>0</td>\n",
       "      <td>1</td>\n",
       "      <td>0</td>\n",
       "      <td>1</td>\n",
       "      <td>0</td>\n",
       "      <td>1</td>\n",
       "      <td>0</td>\n",
       "    </tr>\n",
       "    <tr>\n",
       "      <th>3</th>\n",
       "      <td>1</td>\n",
       "      <td>1</td>\n",
       "      <td>0</td>\n",
       "      <td>1</td>\n",
       "      <td>1</td>\n",
       "      <td>0</td>\n",
       "      <td>0</td>\n",
       "      <td>1</td>\n",
       "      <td>0</td>\n",
       "      <td>1</td>\n",
       "    </tr>\n",
       "    <tr>\n",
       "      <th>4</th>\n",
       "      <td>1</td>\n",
       "      <td>0</td>\n",
       "      <td>0</td>\n",
       "      <td>1</td>\n",
       "      <td>1</td>\n",
       "      <td>0</td>\n",
       "      <td>0</td>\n",
       "      <td>1</td>\n",
       "      <td>0</td>\n",
       "      <td>1</td>\n",
       "    </tr>\n",
       "  </tbody>\n",
       "</table>\n",
       "</div>"
      ],
      "text/plain": [
       "   Veiligheidsbewust  Uitslag  Karakter_a  Karakter_b  Apparaat_a  Apparaat_b  \\\n",
       "0                  0        0           0           1           1           0   \n",
       "1                  0       -3           1           0           1           0   \n",
       "2                  0       -3           1           0           1           0   \n",
       "3                  1        1           0           1           1           0   \n",
       "4                  1        0           0           1           1           0   \n",
       "\n",
       "   Huis_a  Huis_b  Plek_a  Plek_b  \n",
       "0       0       1       0       1  \n",
       "1       0       1       1       0  \n",
       "2       1       0       1       0  \n",
       "3       0       1       0       1  \n",
       "4       0       1       0       1  "
      ]
     },
     "execution_count": 6,
     "metadata": {},
     "output_type": "execute_result"
    }
   ],
   "source": [
    "df = pd.get_dummies(df, columns=['Karakter', 'Apparaat', 'Huis', 'Plek'], drop_first = False)\n",
    "\n",
    "# Swap Uitslag & Veiligheidsbewust\n",
    "titles = list(df.columns)\n",
    "titles[0], titles[1] = titles[1], titles[0]\n",
    "df = df[titles]\n",
    "\n",
    "df.head()"
   ]
  },
  {
   "cell_type": "markdown",
   "metadata": {},
   "source": [
    "X pakken en data splitten"
   ]
  },
  {
   "cell_type": "code",
   "execution_count": 7,
   "metadata": {},
   "outputs": [],
   "source": [
    "X = df.loc[:, 'Uitslag' : 'Plek_b']\n",
    "y = df['Veiligheidsbewust'] # Dit willen we weten\n",
    "X_train, X_test, y_train, y_test = train_test_split(X, y, test_size=0.3, random_state=1)"
   ]
  },
  {
   "cell_type": "markdown",
   "metadata": {},
   "source": [
    "# Trainen algoritme"
   ]
  },
  {
   "cell_type": "code",
   "execution_count": 8,
   "metadata": {},
   "outputs": [],
   "source": [
    "rf = RandomForestClassifier(random_state=1, n_estimators=100) # RF is a random algorithm, so to get the same results we need to use random_state\n",
    "rf = rf.fit(X_train, y_train)"
   ]
  },
  {
   "cell_type": "markdown",
   "metadata": {},
   "source": [
    "Accuracy ="
   ]
  },
  {
   "cell_type": "code",
   "execution_count": 9,
   "metadata": {},
   "outputs": [
    {
     "data": {
      "text/plain": [
       "0.9047619047619048"
      ]
     },
     "execution_count": 9,
     "metadata": {},
     "output_type": "execute_result"
    }
   ],
   "source": [
    "rf.score(X_test,y_test)"
   ]
  },
  {
   "cell_type": "code",
   "execution_count": 10,
   "metadata": {},
   "outputs": [
    {
     "data": {
      "text/plain": [
       "array([0, 1], dtype=int64)"
      ]
     },
     "execution_count": 10,
     "metadata": {},
     "output_type": "execute_result"
    }
   ],
   "source": [
    "rf.classes_"
   ]
  },
  {
   "cell_type": "code",
   "execution_count": 11,
   "metadata": {},
   "outputs": [
    {
     "data": {
      "text/html": [
       "<div>\n",
       "<style scoped>\n",
       "    .dataframe tbody tr th:only-of-type {\n",
       "        vertical-align: middle;\n",
       "    }\n",
       "\n",
       "    .dataframe tbody tr th {\n",
       "        vertical-align: top;\n",
       "    }\n",
       "\n",
       "    .dataframe thead th {\n",
       "        text-align: right;\n",
       "    }\n",
       "</style>\n",
       "<table border=\"1\" class=\"dataframe\">\n",
       "  <thead>\n",
       "    <tr style=\"text-align: right;\">\n",
       "      <th></th>\n",
       "      <th>Niet veiligheidsbewust (pred)</th>\n",
       "      <th>Wel veiligheidsbewust (pred)</th>\n",
       "    </tr>\n",
       "  </thead>\n",
       "  <tbody>\n",
       "    <tr>\n",
       "      <th>Niet veiligheidsbewust (actual)</th>\n",
       "      <td>7</td>\n",
       "      <td>2</td>\n",
       "    </tr>\n",
       "    <tr>\n",
       "      <th>Wel veiligheidsbewust (actual)</th>\n",
       "      <td>0</td>\n",
       "      <td>12</td>\n",
       "    </tr>\n",
       "  </tbody>\n",
       "</table>\n",
       "</div>"
      ],
      "text/plain": [
       "                                 Niet veiligheidsbewust (pred)  \\\n",
       "Niet veiligheidsbewust (actual)                              7   \n",
       "Wel veiligheidsbewust (actual)                               0   \n",
       "\n",
       "                                 Wel veiligheidsbewust (pred)  \n",
       "Niet veiligheidsbewust (actual)                             2  \n",
       "Wel veiligheidsbewust (actual)                             12  "
      ]
     },
     "execution_count": 11,
     "metadata": {},
     "output_type": "execute_result"
    }
   ],
   "source": [
    "y_pred = rf.predict(X_test) #the predicted values\n",
    "cm = confusion_matrix(y_test, y_pred) #creates a \"confusion matrix\"\n",
    "cm = pd.DataFrame(cm, index=['Niet veiligheidsbewust (actual)', 'Wel veiligheidsbewust (actual)'], columns = ['Niet veiligheidsbewust (pred)', 'Wel veiligheidsbewust (pred)']) #label and make df\n",
    "cm"
   ]
  },
  {
   "cell_type": "markdown",
   "metadata": {},
   "source": [
    "| TP | FP |\n",
    "|---|---|\n",
    "| FN | TN |\n",
    "\n",
    "**True Positive**: 7x verwachten we **niet** veiligheidsbewust --> en is ook **niet** veiligheidsbewust <br/>\n",
    "**True Negative**: 12x verwachten we **wel** veiligheidsbewust --> en is ook **wel** veiligheidsbewust<br/>\n",
    "**False Positive**: 2x verwachten we **wel** veiligheidsbewust --> maar is **niet** veiligheidsbewust <br/>\n",
    "**False Negative**: 0x verwachten we **niet** veiligheidsbewust --> maar is **wel** veiligheidsbewust <br/>"
   ]
  },
  {
   "cell_type": "code",
   "execution_count": 12,
   "metadata": {},
   "outputs": [
    {
     "name": "stdout",
     "output_type": "stream",
     "text": [
      "Specificity (TN) = 0.8571428571428571\n"
     ]
    }
   ],
   "source": [
    "print(\"Specificity (TN) =\", 12 / (12 + 2))"
   ]
  },
  {
   "cell_type": "markdown",
   "metadata": {},
   "source": [
    "# Voorspellen"
   ]
  },
  {
   "cell_type": "markdown",
   "metadata": {},
   "source": [
    "Vul de vragenlijst in"
   ]
  },
  {
   "cell_type": "code",
   "execution_count": 13,
   "metadata": {},
   "outputs": [
    {
     "name": "stdout",
     "output_type": "stream",
     "text": [
      "-3\n"
     ]
    }
   ],
   "source": [
    "optie1, optie2, optie3, optie4, object1, object2, object3 = \"\", \"\", \"\", \"\", \"\", \"\", \"\"\n",
    "\n",
    "while optie1 != 'a' and optie1 != 'b':\n",
    "    optie1 = str(input(\"1) Karakter A of B: \"))\n",
    "while optie2 != 'a' and optie2 != 'b':\n",
    "    optie2 = str(input(\"2) Apparaat A of B: \"))\n",
    "while optie3 != 'a' and optie3 != 'b':\n",
    "    optie3 = str(input(\"3) Huis A of B: \"))\n",
    "while optie4 != 'a' and optie4 != 'b':\n",
    "    optie4 = str(input(\"4) Plek A of B: \"))\n",
    "#----------------------------------\n",
    "while object1 != 'a' and object1 != 'b' and object1 != 'c':\n",
    "    object1 = str(input(\"5) Rugzak: \"))\n",
    "while object2 != 'a' and object2 != 'b' and object2 != 'c':\n",
    "    object2 = str(input(\"6) Koffer: \"))\n",
    "while object3 != 'a' and object3 != 'b' and object3 != 'c':\n",
    "    object3 = str(input(\"7) Envelop: \"))\n",
    "\n",
    "objecten_score = 0\n",
    "if object1 == 'a':\n",
    "    objecten_score-= 1\n",
    "elif object1 == 'c':\n",
    "    objecten_score+= 1\n",
    "\n",
    "if object2 == 'a':\n",
    "    objecten_score-= 1\n",
    "elif object2 == 'c':\n",
    "    objecten_score+= 1\n",
    "\n",
    "if object3 == 'a':\n",
    "    objecten_score-= 1\n",
    "elif object3 == 'c':\n",
    "    objecten_score+= 1\n",
    "\n",
    "\n",
    "print(objecten_score)\n",
    "\n",
    "data = [[objecten_score, optie1, optie2, optie3, optie4]] "
   ]
  },
  {
   "cell_type": "code",
   "execution_count": 14,
   "metadata": {},
   "outputs": [
    {
     "name": "stdout",
     "output_type": "stream",
     "text": [
      "   Uitslag Karakter Apparaat Huis Plek\n",
      "0       -3        a        b    a    b\n",
      "Prediction:  [0]\n"
     ]
    }
   ],
   "source": [
    "#data = [[1, 'a', 'b', 'a', 'b']]\n",
    "df2 = pd.DataFrame(data, columns = ['Uitslag', 'Karakter', 'Apparaat', 'Huis', 'Plek'])\n",
    "print(df2)\n",
    "\n",
    "df2 = pd.get_dummies(df2, columns=['Karakter', 'Apparaat', 'Huis', 'Plek'], drop_first=False)\n",
    "\n",
    "test = pd.DataFrame(df2, columns=['Uitslag', 'Karakter_a', 'Karakter_b', 'Apparaat_a', 'Apparaat_b', 'Huis_a', 'Huis_b', 'Plek_a', 'Plek_b'])\n",
    "test = test.fillna(0)\n",
    "test = test.astype(int)\n",
    "\n",
    "pred = rf.predict(test)\n",
    "print(\"Prediction: \", pred)\n"
   ]
  },
  {
   "cell_type": "markdown",
   "metadata": {},
   "source": [
    "# Compacte Dashboard"
   ]
  },
  {
   "cell_type": "code",
   "execution_count": 15,
   "metadata": {},
   "outputs": [
    {
     "name": "stdout",
     "output_type": "stream",
     "text": [
      "Deze persoon is\u001b[0m \u001b[31mniet veiligheidsbewust\u001b[0m\n",
      "\n",
      "Antwoorden keuzes:\n",
      "--------------------------------------\n",
      "Karakter: a\n",
      "Opmerkingen: -\n",
      "Apparaat: b\n",
      "Opmerkingen: -\n",
      "Huis: a\n",
      "Opmerkingen: -\n",
      "Locatie: b\n",
      "Opmerkingen: -\n",
      "\n",
      "Gameobjecten:\n",
      "--------------------------------------\n",
      "Koffer in de trein: \u001b[31ma\u001b[0m\n",
      "Opmerkingen: -\n",
      "Rugtas in winkelcentrum: \u001b[31ma\u001b[0m\n",
      "Opmerkingen: -\n",
      "Envelop in de bibliotheek: \u001b[31ma\u001b[0m\n",
      "Opmerkingen: -\n"
     ]
    }
   ],
   "source": [
    "from termcolor import colored\n",
    "\n",
    "if pred == 1:\n",
    "    print (colored('Deze persoon is'), colored('veiligheidsbewust', 'green'))\n",
    "else:\n",
    "    print (colored('Deze persoon is'), colored('niet veiligheidsbewust', 'red'))\n",
    "\n",
    "print()\n",
    "\n",
    "print(\"Antwoorden keuzes:\")\n",
    "print(\"--------------------------------------\")\n",
    "print(\"Karakter:\", optie1)\n",
    "print(\"Opmerkingen: -\")\n",
    "print(\"Apparaat:\", optie2)\n",
    "print(\"Opmerkingen: -\")\n",
    "print(\"Huis:\", optie3)\n",
    "print(\"Opmerkingen: -\")\n",
    "print(\"Locatie:\", optie4)\n",
    "print(\"Opmerkingen: -\")\n",
    "\n",
    "print()\n",
    "\n",
    "print(\"Gameobjecten:\")\n",
    "print(\"--------------------------------------\")\n",
    "if object1 == 'a':\n",
    "    print(\"Koffer in de trein:\", colored(object1, 'red'))\n",
    "elif object1 == 'b':\n",
    "    print(\"Koffer in de trein:\", colored(object1, 'yellow'))\n",
    "elif object1 == 'c':\n",
    "    print(\"Koffer in de trein:\", colored(object1, 'green'))\n",
    "print(\"Opmerkingen: -\")\n",
    "\n",
    "if object2 == 'a':\n",
    "    print(\"Rugtas in winkelcentrum:\", colored(object2, 'red'))\n",
    "elif object2 == 'b':\n",
    "    print(\"Rugtas in winkelcentrum:\", colored(object2, 'yellow'))\n",
    "elif object2 == 'c':\n",
    "    print(\"Rugtas in winkelcentrum:\", colored(object2, 'green'))\n",
    "print(\"Opmerkingen: -\")\n",
    "\n",
    "if object3 == 'a':\n",
    "    print(\"Envelop in de bibliotheek:\", colored(object3, 'red'))\n",
    "elif object3 == 'b':\n",
    "    print(\"Envelop in de bibliotheek:\", colored(object3, 'yellow'))\n",
    "elif object3 == 'c':\n",
    "    print(\"Envelop in de bibliotheek:\", colored(object3, 'green'))\n",
    "print(\"Opmerkingen: -\")"
   ]
  }
 ],
 "metadata": {
  "interpreter": {
   "hash": "9518128f597d7b00dc14729602cfd87fb7b2cf75925976bcb0d0e328a830a12b"
  },
  "kernelspec": {
   "display_name": "Python 3.9.6 64-bit",
   "language": "python",
   "name": "python3"
  },
  "language_info": {
   "codemirror_mode": {
    "name": "ipython",
    "version": 3
   },
   "file_extension": ".py",
   "mimetype": "text/x-python",
   "name": "python",
   "nbconvert_exporter": "python",
   "pygments_lexer": "ipython3",
   "version": "3.9.6"
  },
  "orig_nbformat": 4
 },
 "nbformat": 4,
 "nbformat_minor": 2
}
