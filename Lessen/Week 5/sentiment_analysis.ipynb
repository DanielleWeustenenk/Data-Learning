{
 "cells": [
  {
   "cell_type": "markdown",
   "metadata": {},
   "source": [
    "# Sentiment Analysis"
   ]
  },
  {
   "cell_type": "markdown",
   "metadata": {},
   "source": [
    "In this Notebook, we will use VADER sentiment analysis to determine the positive or negative connotation to tweets in a dataset of F1 tweets.\n",
    "VADER works also best on short social media texts."
   ]
  },
  {
   "cell_type": "code",
   "execution_count": 4,
   "metadata": {},
   "outputs": [],
   "source": [
    "import pandas as pd"
   ]
  },
  {
   "cell_type": "markdown",
   "metadata": {},
   "source": [
    "First, let's read the data file and filter on date, to limit the number of tweets (otherwise we have to wait to long later on)."
   ]
  },
  {
   "cell_type": "code",
   "execution_count": 5,
   "metadata": {},
   "outputs": [
    {
     "data": {
      "text/html": [
       "<div>\n",
       "<style scoped>\n",
       "    .dataframe tbody tr th:only-of-type {\n",
       "        vertical-align: middle;\n",
       "    }\n",
       "\n",
       "    .dataframe tbody tr th {\n",
       "        vertical-align: top;\n",
       "    }\n",
       "\n",
       "    .dataframe thead th {\n",
       "        text-align: right;\n",
       "    }\n",
       "</style>\n",
       "<table border=\"1\" class=\"dataframe\">\n",
       "  <thead>\n",
       "    <tr style=\"text-align: right;\">\n",
       "      <th></th>\n",
       "      <th>Unnamed: 0</th>\n",
       "      <th>user_name</th>\n",
       "      <th>date</th>\n",
       "      <th>text</th>\n",
       "    </tr>\n",
       "  </thead>\n",
       "  <tbody>\n",
       "    <tr>\n",
       "      <th>199943</th>\n",
       "      <td>199943</td>\n",
       "      <td>#TeamPsg</td>\n",
       "      <td>['F1']</td>\n",
       "      <td>Twitter for Android</td>\n",
       "    </tr>\n",
       "    <tr>\n",
       "      <th>213267</th>\n",
       "      <td>213267</td>\n",
       "      <td>Link ➡️https://t.co/WpePiMd8qs</td>\n",
       "      <td>['MexicoGP', 'F1']</td>\n",
       "      <td>Twitter for Android</td>\n",
       "    </tr>\n",
       "    <tr>\n",
       "      <th>264679</th>\n",
       "      <td>264679</td>\n",
       "      <td>PlanetF1</td>\n",
       "      <td>2021-11-26 23:59:00</td>\n",
       "      <td>Helmut Marko confirms that Red Bull will not t...</td>\n",
       "    </tr>\n",
       "    <tr>\n",
       "      <th>264680</th>\n",
       "      <td>264680</td>\n",
       "      <td>GP2Joey</td>\n",
       "      <td>2021-11-26 23:57:41</td>\n",
       "      <td>13/7/1990\\n@F1 Rd 8/17 BRITISH GP \\n8.30am\\nPR...</td>\n",
       "    </tr>\n",
       "    <tr>\n",
       "      <th>264681</th>\n",
       "      <td>264681</td>\n",
       "      <td>♦️Break Every Rule♦️</td>\n",
       "      <td>2021-11-26 23:54:36</td>\n",
       "      <td>Watching this @AyrtonSenna documentary. I have...</td>\n",
       "    </tr>\n",
       "  </tbody>\n",
       "</table>\n",
       "</div>"
      ],
      "text/plain": [
       "        Unnamed: 0                        user_name                 date  \\\n",
       "199943      199943                         #TeamPsg               ['F1']   \n",
       "213267      213267   Link ➡️https://t.co/WpePiMd8qs   ['MexicoGP', 'F1']   \n",
       "264679      264679                         PlanetF1  2021-11-26 23:59:00   \n",
       "264680      264680                          GP2Joey  2021-11-26 23:57:41   \n",
       "264681      264681             ♦️Break Every Rule♦️  2021-11-26 23:54:36   \n",
       "\n",
       "                                                     text  \n",
       "199943                                Twitter for Android  \n",
       "213267                                Twitter for Android  \n",
       "264679  Helmut Marko confirms that Red Bull will not t...  \n",
       "264680  13/7/1990\\n@F1 Rd 8/17 BRITISH GP \\n8.30am\\nPR...  \n",
       "264681  Watching this @AyrtonSenna documentary. I have...  "
      ]
     },
     "execution_count": 5,
     "metadata": {},
     "output_type": "execute_result"
    }
   ],
   "source": [
    "df = pd.read_csv('F1_tweets.csv')\n",
    "df=df[df['date']>'2021-11-22']\n",
    "df.head()"
   ]
  },
  {
   "cell_type": "markdown",
   "metadata": {},
   "source": [
    "Start with installing VaderSentiment: pip install vaderSentiment\n",
    "\n",
    "Next we will import it and create a function to determine the sentiment of 1 text."
   ]
  },
  {
   "cell_type": "code",
   "execution_count": 6,
   "metadata": {},
   "outputs": [],
   "source": [
    "from vaderSentiment.vaderSentiment import SentimentIntensityAnalyzer\n",
    "\n",
    "def sentiment_scores(tweet):\n",
    "    sid_obj = SentimentIntensityAnalyzer() # Create a SentimentIntensityAnalyzer object.\n",
    "    sentiment_dict = sid_obj.polarity_scores(tweet)# Apply on a tweet\n",
    "    return sentiment_dict['compound']"
   ]
  },
  {
   "cell_type": "markdown",
   "metadata": {},
   "source": [
    "Try it and apply it for different sentences"
   ]
  },
  {
   "cell_type": "code",
   "execution_count": 7,
   "metadata": {},
   "outputs": [
    {
     "data": {
      "text/plain": [
       "'Watching this @AyrtonSenna documentary. I have vague memories of him from childhood but now as an adult I feel myself becoming a fan even though I know he passed away in 1994. 😞 #Formula1 #F1'"
      ]
     },
     "execution_count": 7,
     "metadata": {},
     "output_type": "execute_result"
    }
   ],
   "source": [
    "tweet=df.iloc[4,3]\n",
    "tweet"
   ]
  },
  {
   "cell_type": "code",
   "execution_count": 8,
   "metadata": {},
   "outputs": [
    {
     "data": {
      "text/plain": [
       "-0.34"
      ]
     },
     "execution_count": 8,
     "metadata": {},
     "output_type": "execute_result"
    }
   ],
   "source": [
    "sentiment_scores(tweet)"
   ]
  },
  {
   "cell_type": "markdown",
   "metadata": {},
   "source": [
    "Finally add an extra variable 'sentiment' to the dataset and add for every tweet its sentiment."
   ]
  },
  {
   "cell_type": "code",
   "execution_count": 9,
   "metadata": {},
   "outputs": [],
   "source": [
    "df['sentiment']= df.apply(lambda x: sentiment_scores(x['text']), axis=1)\n",
    "    \n",
    "df.head()"
   ]
  }
 ],
 "metadata": {
  "kernelspec": {
   "display_name": "Python 3",
   "language": "python",
   "name": "python3"
  },
  "language_info": {
   "codemirror_mode": {
    "name": "ipython",
    "version": 3
   },
   "file_extension": ".py",
   "mimetype": "text/x-python",
   "name": "python",
   "nbconvert_exporter": "python",
   "pygments_lexer": "ipython3",
   "version": "3.9.6"
  }
 },
 "nbformat": 4,
 "nbformat_minor": 2
}
