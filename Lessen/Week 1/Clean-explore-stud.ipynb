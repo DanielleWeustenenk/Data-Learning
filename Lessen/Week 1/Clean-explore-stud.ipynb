{
 "cells": [
  {
   "cell_type": "markdown",
   "id": "17413381",
   "metadata": {},
   "source": [
    "## Data Cleaning"
   ]
  },
  {
   "cell_type": "code",
   "execution_count": 3,
   "id": "23870a10",
   "metadata": {},
   "outputs": [
    {
     "data": {
      "text/html": [
       "<div>\n",
       "<style scoped>\n",
       "    .dataframe tbody tr th:only-of-type {\n",
       "        vertical-align: middle;\n",
       "    }\n",
       "\n",
       "    .dataframe tbody tr th {\n",
       "        vertical-align: top;\n",
       "    }\n",
       "\n",
       "    .dataframe thead th {\n",
       "        text-align: right;\n",
       "    }\n",
       "</style>\n",
       "<table border=\"1\" class=\"dataframe\">\n",
       "  <thead>\n",
       "    <tr style=\"text-align: right;\">\n",
       "      <th></th>\n",
       "      <th>app</th>\n",
       "      <th>reviews</th>\n",
       "      <th>rating</th>\n",
       "    </tr>\n",
       "  </thead>\n",
       "  <tbody>\n",
       "    <tr>\n",
       "      <th>0</th>\n",
       "      <td>JailBase - Arrests + Mugshots</td>\n",
       "      <td>17240</td>\n",
       "      <td>NaN</td>\n",
       "    </tr>\n",
       "    <tr>\n",
       "      <th>1</th>\n",
       "      <td>EF Smart English for Phone</td>\n",
       "      <td>208</td>\n",
       "      <td>/</td>\n",
       "    </tr>\n",
       "    <tr>\n",
       "      <th>2</th>\n",
       "      <td>CP Calculator</td>\n",
       "      <td>187</td>\n",
       "      <td>4.1</td>\n",
       "    </tr>\n",
       "    <tr>\n",
       "      <th>3</th>\n",
       "      <td>Workout Tracker &amp; Gym Trainer - Fitness Log Book</td>\n",
       "      <td>5420</td>\n",
       "      <td>4.6</td>\n",
       "    </tr>\n",
       "    <tr>\n",
       "      <th>4</th>\n",
       "      <td>All Language Translator</td>\n",
       "      <td>29944</td>\n",
       "      <td>4</td>\n",
       "    </tr>\n",
       "  </tbody>\n",
       "</table>\n",
       "</div>"
      ],
      "text/plain": [
       "                                                app  reviews rating\n",
       "0                     JailBase - Arrests + Mugshots    17240    NaN\n",
       "1                        EF Smart English for Phone      208      /\n",
       "2                                     CP Calculator      187    4.1\n",
       "3  Workout Tracker & Gym Trainer - Fitness Log Book     5420    4.6\n",
       "4                           All Language Translator    29944      4"
      ]
     },
     "execution_count": 3,
     "metadata": {},
     "output_type": "execute_result"
    }
   ],
   "source": [
    "import seaborn as sns #this is the plotting library I'll be using \n",
    "import pandas as pd #\"as pd\" means that we can use the abbreviation in commands\n",
    "import matplotlib.pyplot as plt #we need Matplotlib for setting the labels in the Seaborn graphs\n",
    "\n",
    "df1 = pd.read_csv('googleplay_part1.csv')\n",
    "df1.head()"
   ]
  },
  {
   "cell_type": "markdown",
   "id": "f17d25f1",
   "metadata": {},
   "source": [
    "Read a second dataset"
   ]
  },
  {
   "cell_type": "code",
   "execution_count": 4,
   "id": "c399721a",
   "metadata": {},
   "outputs": [
    {
     "data": {
      "text/html": [
       "<div>\n",
       "<style scoped>\n",
       "    .dataframe tbody tr th:only-of-type {\n",
       "        vertical-align: middle;\n",
       "    }\n",
       "\n",
       "    .dataframe tbody tr th {\n",
       "        vertical-align: top;\n",
       "    }\n",
       "\n",
       "    .dataframe thead th {\n",
       "        text-align: right;\n",
       "    }\n",
       "</style>\n",
       "<table border=\"1\" class=\"dataframe\">\n",
       "  <thead>\n",
       "    <tr style=\"text-align: right;\">\n",
       "      <th></th>\n",
       "      <th>app</th>\n",
       "      <th>size</th>\n",
       "      <th>price</th>\n",
       "    </tr>\n",
       "  </thead>\n",
       "  <tbody>\n",
       "    <tr>\n",
       "      <th>0</th>\n",
       "      <td>JailBase - Arrests + Mugshots</td>\n",
       "      <td>NaN</td>\n",
       "      <td>0.0</td>\n",
       "    </tr>\n",
       "    <tr>\n",
       "      <th>1</th>\n",
       "      <td>EF Smart English for Phone</td>\n",
       "      <td>13.0</td>\n",
       "      <td>0.0</td>\n",
       "    </tr>\n",
       "    <tr>\n",
       "      <th>2</th>\n",
       "      <td>CP Calculator</td>\n",
       "      <td>2.9</td>\n",
       "      <td>0.0</td>\n",
       "    </tr>\n",
       "    <tr>\n",
       "      <th>3</th>\n",
       "      <td>Workout Tracker &amp; Gym Trainer - Fitness Log Book</td>\n",
       "      <td>21.0</td>\n",
       "      <td>0.0</td>\n",
       "    </tr>\n",
       "    <tr>\n",
       "      <th>4</th>\n",
       "      <td>All Language Translator</td>\n",
       "      <td>2.1</td>\n",
       "      <td>0.0</td>\n",
       "    </tr>\n",
       "  </tbody>\n",
       "</table>\n",
       "</div>"
      ],
      "text/plain": [
       "                                                app  size  price\n",
       "0                     JailBase - Arrests + Mugshots   NaN    0.0\n",
       "1                        EF Smart English for Phone  13.0    0.0\n",
       "2                                     CP Calculator   2.9    0.0\n",
       "3  Workout Tracker & Gym Trainer - Fitness Log Book  21.0    0.0\n",
       "4                           All Language Translator   2.1    0.0"
      ]
     },
     "execution_count": 4,
     "metadata": {},
     "output_type": "execute_result"
    }
   ],
   "source": [
    "df2 = pd.read_csv('googleplay_part2.csv')\n",
    "df2.head()"
   ]
  },
  {
   "cell_type": "markdown",
   "id": "fa62e820",
   "metadata": {},
   "source": [
    "Merge both datasets"
   ]
  },
  {
   "cell_type": "code",
   "execution_count": 7,
   "id": "ca7247d3",
   "metadata": {},
   "outputs": [
    {
     "data": {
      "text/html": [
       "<div>\n",
       "<style scoped>\n",
       "    .dataframe tbody tr th:only-of-type {\n",
       "        vertical-align: middle;\n",
       "    }\n",
       "\n",
       "    .dataframe tbody tr th {\n",
       "        vertical-align: top;\n",
       "    }\n",
       "\n",
       "    .dataframe thead th {\n",
       "        text-align: right;\n",
       "    }\n",
       "</style>\n",
       "<table border=\"1\" class=\"dataframe\">\n",
       "  <thead>\n",
       "    <tr style=\"text-align: right;\">\n",
       "      <th></th>\n",
       "      <th>app</th>\n",
       "      <th>reviews</th>\n",
       "      <th>rating</th>\n",
       "      <th>size</th>\n",
       "      <th>price</th>\n",
       "    </tr>\n",
       "  </thead>\n",
       "  <tbody>\n",
       "    <tr>\n",
       "      <th>0</th>\n",
       "      <td>JailBase - Arrests + Mugshots</td>\n",
       "      <td>17240</td>\n",
       "      <td>NaN</td>\n",
       "      <td>NaN</td>\n",
       "      <td>0.0</td>\n",
       "    </tr>\n",
       "    <tr>\n",
       "      <th>1</th>\n",
       "      <td>EF Smart English for Phone</td>\n",
       "      <td>208</td>\n",
       "      <td>/</td>\n",
       "      <td>13.0</td>\n",
       "      <td>0.0</td>\n",
       "    </tr>\n",
       "    <tr>\n",
       "      <th>2</th>\n",
       "      <td>CP Calculator</td>\n",
       "      <td>187</td>\n",
       "      <td>4.1</td>\n",
       "      <td>2.9</td>\n",
       "      <td>0.0</td>\n",
       "    </tr>\n",
       "    <tr>\n",
       "      <th>3</th>\n",
       "      <td>Workout Tracker &amp; Gym Trainer - Fitness Log Book</td>\n",
       "      <td>5420</td>\n",
       "      <td>4.6</td>\n",
       "      <td>21.0</td>\n",
       "      <td>0.0</td>\n",
       "    </tr>\n",
       "    <tr>\n",
       "      <th>4</th>\n",
       "      <td>All Language Translator</td>\n",
       "      <td>29944</td>\n",
       "      <td>4</td>\n",
       "      <td>2.1</td>\n",
       "      <td>0.0</td>\n",
       "    </tr>\n",
       "  </tbody>\n",
       "</table>\n",
       "</div>"
      ],
      "text/plain": [
       "                                                app  reviews rating  size  \\\n",
       "0                     JailBase - Arrests + Mugshots    17240    NaN   NaN   \n",
       "1                        EF Smart English for Phone      208      /  13.0   \n",
       "2                                     CP Calculator      187    4.1   2.9   \n",
       "3  Workout Tracker & Gym Trainer - Fitness Log Book     5420    4.6  21.0   \n",
       "4                           All Language Translator    29944      4   2.1   \n",
       "\n",
       "   price  \n",
       "0    0.0  \n",
       "1    0.0  \n",
       "2    0.0  \n",
       "3    0.0  \n",
       "4    0.0  "
      ]
     },
     "execution_count": 7,
     "metadata": {},
     "output_type": "execute_result"
    }
   ],
   "source": [
    "df=df1.merge(df2, on='app')\n",
    "df.head()"
   ]
  },
  {
   "cell_type": "markdown",
   "id": "187c9cb7",
   "metadata": {},
   "source": [
    "Check the types of the columns"
   ]
  },
  {
   "cell_type": "code",
   "execution_count": 13,
   "id": "7c0ecdee",
   "metadata": {},
   "outputs": [
    {
     "name": "stdout",
     "output_type": "stream",
     "text": [
      "<class 'pandas.core.frame.DataFrame'>\n",
      "Int64Index: 499 entries, 0 to 498\n",
      "Data columns (total 5 columns):\n",
      " #   Column   Non-Null Count  Dtype  \n",
      "---  ------   --------------  -----  \n",
      " 0   app      499 non-null    object \n",
      " 1   reviews  499 non-null    int64  \n",
      " 2   rating   420 non-null    object \n",
      " 3   size     424 non-null    float64\n",
      " 4   price    499 non-null    float64\n",
      "dtypes: float64(2), int64(1), object(2)\n",
      "memory usage: 23.4+ KB\n"
     ]
    }
   ],
   "source": [
    "df.info()"
   ]
  },
  {
   "cell_type": "markdown",
   "id": "211eb844",
   "metadata": {},
   "source": [
    "Check the rating with value_counts(), clean it and convert it to numeric"
   ]
  },
  {
   "cell_type": "code",
   "execution_count": 14,
   "id": "6f24689e",
   "metadata": {},
   "outputs": [
    {
     "data": {
      "text/plain": [
       "4.4    48\n",
       "4.2    44\n",
       "4.3    44\n",
       "4.5    42\n",
       "4.6    36\n",
       "4.7    34\n",
       "4.1    33\n",
       "4      31\n",
       "3.9    17\n",
       "5      15\n",
       "3.8    12\n",
       "3.7     8\n",
       "4.8     8\n",
       "3.6     6\n",
       "3.5     6\n",
       "4.9     5\n",
       "3.4     5\n",
       "3.3     4\n",
       "3.1     3\n",
       "2.9     3\n",
       "1.9     2\n",
       "3       2\n",
       "3.2     2\n",
       "1       2\n",
       "2.1     1\n",
       "5.9     1\n",
       "2.7     1\n",
       "2.5     1\n",
       "/       1\n",
       "1.6     1\n",
       "5.3     1\n",
       "2.2     1\n",
       "Name: rating, dtype: int64"
      ]
     },
     "execution_count": 14,
     "metadata": {},
     "output_type": "execute_result"
    }
   ],
   "source": [
    "df['rating'].value_counts()"
   ]
  },
  {
   "cell_type": "markdown",
   "id": "d4cba676",
   "metadata": {},
   "source": [
    "Get rid of all rows containing a / and ratings above 5"
   ]
  },
  {
   "cell_type": "code",
   "execution_count": 15,
   "id": "e17b1e53",
   "metadata": {},
   "outputs": [],
   "source": [
    "df3=df[-df['rating'].isin(['/','5.3','5.9'])]"
   ]
  },
  {
   "cell_type": "markdown",
   "id": "bdc1f4b1",
   "metadata": {},
   "source": [
    "Convert to numeric using the panda function to_numeric"
   ]
  },
  {
   "cell_type": "code",
   "execution_count": 22,
   "id": "2597faf9",
   "metadata": {},
   "outputs": [
    {
     "data": {
      "text/plain": [
       "0      NaN\n",
       "2      4.1\n",
       "3      4.6\n",
       "4      4.0\n",
       "5      NaN\n",
       "      ... \n",
       "494    4.3\n",
       "495    4.7\n",
       "496    4.4\n",
       "497    3.3\n",
       "498    NaN\n",
       "Name: rating, Length: 496, dtype: float64"
      ]
     },
     "execution_count": 22,
     "metadata": {},
     "output_type": "execute_result"
    }
   ],
   "source": [
    "pd.to_numeric(df3['rating'])"
   ]
  },
  {
   "cell_type": "code",
   "execution_count": 21,
   "id": "65cc80f9",
   "metadata": {},
   "outputs": [
    {
     "name": "stdout",
     "output_type": "stream",
     "text": [
      "<class 'pandas.core.frame.DataFrame'>\n",
      "Int64Index: 496 entries, 0 to 498\n",
      "Data columns (total 5 columns):\n",
      " #   Column   Non-Null Count  Dtype  \n",
      "---  ------   --------------  -----  \n",
      " 0   app      496 non-null    object \n",
      " 1   reviews  496 non-null    int64  \n",
      " 2   rating   417 non-null    float64\n",
      " 3   size     421 non-null    float64\n",
      " 4   price    496 non-null    float64\n",
      "dtypes: float64(3), int64(1), object(1)\n",
      "memory usage: 23.2+ KB\n"
     ]
    }
   ],
   "source": [
    "df3.info()"
   ]
  },
  {
   "cell_type": "markdown",
   "id": "f172d51f",
   "metadata": {},
   "source": [
    "Plot you ratings data"
   ]
  },
  {
   "cell_type": "code",
   "execution_count": 23,
   "id": "7f9eed1a",
   "metadata": {},
   "outputs": [
    {
     "data": {
      "image/png": "[encoded data removed]",
      "text/plain": [
       "<Figure size 360x360 with 1 Axes>"
      ]
     },
     "metadata": {
      "needs_background": "light"
     },
     "output_type": "display_data"
    }
   ],
   "source": [
    "sns.displot(df3['rating'].dropna(), kde=True) #Selecting the rating column. I need to drop the NA's for the plot\n",
    "plt.title('Rating of Google Play apps')\n",
    "plt.xlabel('Rating (stars)')\n",
    "plt.show()"
   ]
  },
  {
   "cell_type": "code",
   "execution_count": null,
   "id": "2a8032e5",
   "metadata": {},
   "outputs": [],
   "source": []
  }
 ],
 "metadata": {
  "kernelspec": {
   "display_name": "Python 3",
   "language": "python",
   "name": "python3"
  },
  "language_info": {
   "codemirror_mode": {
    "name": "ipython",
    "version": 3
   },
   "file_extension": ".py",
   "mimetype": "text/x-python",
   "name": "python",
   "nbconvert_exporter": "python",
   "pygments_lexer": "ipython3",
   "version": "3.8.8"
  }
 },
 "nbformat": 4,
 "nbformat_minor": 5
}
